{
 "cells": [
  {
   "cell_type": "markdown",
   "metadata": {},
   "source": [
    "### Classifier with w2v vectors"
   ]
  },
  {
   "cell_type": "markdown",
   "metadata": {},
   "source": [
    "Vectorized on train data"
   ]
  },
  {
   "cell_type": "code",
   "execution_count": 1,
   "metadata": {},
   "outputs": [
    {
     "name": "stderr",
     "output_type": "stream",
     "text": [
      "Using TensorFlow backend.\n"
     ]
    }
   ],
   "source": [
    "import pandas as pd\n",
    "import numpy as np\n",
    "import matplotlib.pyplot as plt\n",
    "from sklearn.naive_bayes import MultinomialNB\n",
    "from sklearn.metrics  import f1_score,accuracy_score\n",
    "from sklearn.metrics import confusion_matrix\n",
    "import itertools\n",
    "from sklearn.model_selection import cross_validate\n",
    "from sklearn import svm\n",
    "import keras\n",
    "from sklearn.preprocessing import OneHotEncoder\n",
    "import pickle\n",
    "import sys"
   ]
  },
  {
   "cell_type": "code",
   "execution_count": 2,
   "metadata": {},
   "outputs": [],
   "source": [
    "train_set = pd.read_csv(\"dataset_train_pp.csv\")\n",
    "test_set = pd.read_csv(\"dataset_test_pp.csv\")"
   ]
  },
  {
   "cell_type": "code",
   "execution_count": 3,
   "metadata": {},
   "outputs": [
    {
     "name": "stdout",
     "output_type": "stream",
     "text": [
      "50000\n",
      "5000\n"
     ]
    }
   ],
   "source": [
    "print(len(train_set))\n",
    "print(len(test_set))"
   ]
  },
  {
   "cell_type": "code",
   "execution_count": 4,
   "metadata": {},
   "outputs": [],
   "source": [
    "train_x=train_set[\"Description\"]\n",
    "test_x=test_set[\"Description\"]\n",
    "\n",
    "train_y=train_set[\"Class Index\"]\n",
    "test_y=test_set[\"Class Index\"]"
   ]
  },
  {
   "cell_type": "code",
   "execution_count": 5,
   "metadata": {},
   "outputs": [
    {
     "name": "stdout",
     "output_type": "stream",
     "text": [
      "CPU times: user 0 ns, sys: 7.6 ms, total: 7.6 ms\n",
      "Wall time: 15.2 ms\n"
     ]
    }
   ],
   "source": [
    "%%time\n",
    "test_x_vectors = np.load(\"w2v_test_x_300.npy\")"
   ]
  },
  {
   "cell_type": "code",
   "execution_count": 6,
   "metadata": {},
   "outputs": [
    {
     "name": "stdout",
     "output_type": "stream",
     "text": [
      "CPU times: user 3.54 ms, sys: 48.5 ms, total: 52 ms\n",
      "Wall time: 49.2 ms\n"
     ]
    }
   ],
   "source": [
    "%%time\n",
    "train_x_vectors = np.load(\"w2v_train_x_300.npy\")"
   ]
  },
  {
   "cell_type": "code",
   "execution_count": null,
   "metadata": {},
   "outputs": [],
   "source": []
  },
  {
   "cell_type": "code",
   "execution_count": null,
   "metadata": {},
   "outputs": [],
   "source": []
  },
  {
   "cell_type": "code",
   "execution_count": null,
   "metadata": {},
   "outputs": [],
   "source": []
  },
  {
   "cell_type": "code",
   "execution_count": 7,
   "metadata": {},
   "outputs": [],
   "source": [
    "# plot confusion matrix\n",
    "def plot_confusion_matrix(cm, classes, normalize=False, title='confusion_matrix', cmap=plt.cm.Blues):\n",
    "    plt.figure(figsize=(8, 6))\n",
    "    plt.imshow(cm, interpolation='nearest', cmap=cmap)\n",
    "    plt.title(title)\n",
    "    plt.colorbar()\n",
    "    tick_marks = np.arange(len(classes))\n",
    "    plt.xticks(tick_marks, classes, rotation=45)\n",
    "    plt.yticks(tick_marks, classes)\n",
    "    \n",
    "    if normalize:\n",
    "        cm = cm.astype('float') / cm.sum(axis=1)[:, np.newaxis]\n",
    "\n",
    "    thresh = cm.max()/2.\n",
    "    for i, j in itertools.product(range(cm.shape[0]), range(cm.shape[1])):\n",
    "        plt.text(j, i, cm[i,j], \n",
    "                horizontalalignment='center', \n",
    "                color='white' if cm[i,j] > thresh else 'black')\n",
    "    plt.tight_layout()\n",
    "    plt.ylabel('True label')\n",
    "    plt.xlabel('Predicted label')"
   ]
  },
  {
   "cell_type": "markdown",
   "metadata": {},
   "source": [
    "### Naive Bays"
   ]
  },
  {
   "cell_type": "code",
   "execution_count": 16,
   "metadata": {},
   "outputs": [],
   "source": [
    "naive_bays = MultinomialNB()"
   ]
  },
  {
   "cell_type": "code",
   "execution_count": 17,
   "metadata": {},
   "outputs": [
    {
     "name": "stdout",
     "output_type": "stream",
     "text": [
      "CPU times: user 166 ms, sys: 107 ms, total: 273 ms\n",
      "Wall time: 164 ms\n"
     ]
    },
    {
     "data": {
      "text/plain": [
       "MultinomialNB(alpha=1.0, class_prior=None, fit_prior=True)"
      ]
     },
     "execution_count": 17,
     "metadata": {},
     "output_type": "execute_result"
    }
   ],
   "source": [
    "%%time\n",
    "naive_bays.fit(train_x_vectors, train_y)"
   ]
  },
  {
   "cell_type": "code",
   "execution_count": 18,
   "metadata": {},
   "outputs": [
    {
     "name": "stdout",
     "output_type": "stream",
     "text": [
      "24.749\n"
     ]
    }
   ],
   "source": [
    "p = pickle.dumps(naive_bays)\n",
    "memoryKB = sys.getsizeof(p)/1000\n",
    "print(memoryKB)"
   ]
  },
  {
   "cell_type": "code",
   "execution_count": 19,
   "metadata": {},
   "outputs": [
    {
     "name": "stdout",
     "output_type": "stream",
     "text": [
      "CPU times: user 24.1 ms, sys: 6.73 ms, total: 30.9 ms\n",
      "Wall time: 18.8 ms\n"
     ]
    }
   ],
   "source": [
    "%%time\n",
    "nb_pred_x = naive_bays.predict(test_x_vectors)"
   ]
  },
  {
   "cell_type": "code",
   "execution_count": 20,
   "metadata": {},
   "outputs": [
    {
     "data": {
      "text/plain": [
       "0.728"
      ]
     },
     "execution_count": 20,
     "metadata": {},
     "output_type": "execute_result"
    }
   ],
   "source": [
    "accuracy_score(test_y,nb_pred_x)"
   ]
  },
  {
   "cell_type": "code",
   "execution_count": 21,
   "metadata": {},
   "outputs": [
    {
     "data": {
      "image/png": "[encoded data removed]",
      "text/plain": [
       "<Figure size 576x432 with 2 Axes>"
      ]
     },
     "metadata": {
      "needs_background": "light"
     },
     "output_type": "display_data"
    }
   ],
   "source": [
    "nb_cm = confusion_matrix(test_y, nb_pred_x)\n",
    "cmPlotLabels = ['World', 'Sports', 'Business', 'Science', 'Corona']\n",
    "plot_confusion_matrix(nb_cm, cmPlotLabels, title='Naive Bays')"
   ]
  },
  {
   "cell_type": "markdown",
   "metadata": {},
   "source": [
    "### SVM"
   ]
  },
  {
   "cell_type": "code",
   "execution_count": 23,
   "metadata": {},
   "outputs": [],
   "source": [
    "svm_model = svm.SVC(kernel='poly', degree=2, gamma='scale')"
   ]
  },
  {
   "cell_type": "code",
   "execution_count": 24,
   "metadata": {},
   "outputs": [
    {
     "name": "stdout",
     "output_type": "stream",
     "text": [
      "CPU times: user 9min 8s, sys: 3.58 s, total: 9min 12s\n",
      "Wall time: 9min 12s\n"
     ]
    },
    {
     "data": {
      "text/plain": [
       "SVC(C=1.0, cache_size=200, class_weight=None, coef0=0.0,\n",
       "  decision_function_shape='ovr', degree=2, gamma='scale', kernel='poly',\n",
       "  max_iter=-1, probability=False, random_state=None, shrinking=True,\n",
       "  tol=0.001, verbose=False)"
      ]
     },
     "execution_count": 24,
     "metadata": {},
     "output_type": "execute_result"
    }
   ],
   "source": [
    "%%time\n",
    "svm_model.fit(train_x_vectors, train_y)\n",
    "# svm_model.fit(test_x_vectors, test_y) for speed test"
   ]
  },
  {
   "cell_type": "code",
   "execution_count": 25,
   "metadata": {},
   "outputs": [
    {
     "name": "stdout",
     "output_type": "stream",
     "text": [
      "41345.383\n"
     ]
    }
   ],
   "source": [
    "p = pickle.dumps(svm_model)\n",
    "memoryKB = sys.getsizeof(p)/1000\n",
    "print(memoryKB)"
   ]
  },
  {
   "cell_type": "code",
   "execution_count": 26,
   "metadata": {},
   "outputs": [
    {
     "name": "stdout",
     "output_type": "stream",
     "text": [
      "CPU times: user 56.7 s, sys: 55.8 ms, total: 56.8 s\n",
      "Wall time: 56.9 s\n"
     ]
    }
   ],
   "source": [
    "%%time\n",
    "svm_pred_x = svm_model.predict(test_x_vectors)"
   ]
  },
  {
   "cell_type": "code",
   "execution_count": 27,
   "metadata": {},
   "outputs": [
    {
     "data": {
      "text/plain": [
       "0.8824"
      ]
     },
     "execution_count": 27,
     "metadata": {},
     "output_type": "execute_result"
    }
   ],
   "source": [
    "accuracy_score(test_y,svm_pred_x)"
   ]
  },
  {
   "cell_type": "code",
   "execution_count": 28,
   "metadata": {},
   "outputs": [
    {
     "data": {
      "image/png": "[encoded data removed]",
      "text/plain": [
       "<Figure size 576x432 with 2 Axes>"
      ]
     },
     "metadata": {
      "needs_background": "light"
     },
     "output_type": "display_data"
    }
   ],
   "source": [
    "svm_cm = confusion_matrix(test_y, svm_pred_x)\n",
    "plot_confusion_matrix(svm_cm, cmPlotLabels, title='SVM')"
   ]
  },
  {
   "cell_type": "markdown",
   "metadata": {},
   "source": [
    "https://stackoverflow.com/questions/10592605/save-classifier-to-disk-in-scikit-learn"
   ]
  },
  {
   "cell_type": "markdown",
   "metadata": {},
   "source": [
    "### NN"
   ]
  },
  {
   "cell_type": "markdown",
   "metadata": {},
   "source": [
    "#### Prepare labels for keras"
   ]
  },
  {
   "cell_type": "code",
   "execution_count": 8,
   "metadata": {},
   "outputs": [],
   "source": [
    "enc = OneHotEncoder(handle_unknown='ignore')"
   ]
  },
  {
   "cell_type": "code",
   "execution_count": 9,
   "metadata": {},
   "outputs": [],
   "source": [
    "test_y_array = test_y.to_numpy().reshape(-1,1)\n",
    "train_y_array = train_y.to_numpy().reshape(-1,1)"
   ]
  },
  {
   "cell_type": "code",
   "execution_count": 10,
   "metadata": {},
   "outputs": [],
   "source": [
    "enc.fit(test_y_array)\n",
    "test_y_1hot = enc.transform(test_y_array).toarray()"
   ]
  },
  {
   "cell_type": "code",
   "execution_count": 11,
   "metadata": {},
   "outputs": [],
   "source": [
    "enc.fit(train_y_array)\n",
    "train_y_1hot = enc.transform(train_y_array).toarray()"
   ]
  },
  {
   "cell_type": "markdown",
   "metadata": {},
   "source": [
    "#### keras model"
   ]
  },
  {
   "cell_type": "code",
   "execution_count": 13,
   "metadata": {},
   "outputs": [],
   "source": [
    "nn_model = None\n",
    "nn_model = keras.models.Sequential()\n",
    "nn_model.add(keras.layers.Dense(32, input_dim=300, activation='relu'))\n",
    "nn_model.add(keras.layers.Dense(16, activation='relu'))\n",
    "nn_model.add(keras.layers.Dense(16, activation='relu'))\n",
    "nn_model.add(keras.layers.Dense(5, activation='softmax'))"
   ]
  },
  {
   "cell_type": "code",
   "execution_count": 14,
   "metadata": {},
   "outputs": [
    {
     "name": "stdout",
     "output_type": "stream",
     "text": [
      "_________________________________________________________________\n",
      "Layer (type)                 Output Shape              Param #   \n",
      "=================================================================\n",
      "dense_5 (Dense)              (None, 32)                9632      \n",
      "_________________________________________________________________\n",
      "dense_6 (Dense)              (None, 16)                528       \n",
      "_________________________________________________________________\n",
      "dense_7 (Dense)              (None, 16)                272       \n",
      "_________________________________________________________________\n",
      "dense_8 (Dense)              (None, 5)                 85        \n",
      "=================================================================\n",
      "Total params: 10,517\n",
      "Trainable params: 10,517\n",
      "Non-trainable params: 0\n",
      "_________________________________________________________________\n"
     ]
    }
   ],
   "source": [
    "nn_model.summary()"
   ]
  },
  {
   "cell_type": "code",
   "execution_count": 16,
   "metadata": {},
   "outputs": [],
   "source": [
    "nn_model.compile(keras.optimizers.Adam(lr=0.001), loss='categorical_crossentropy', metrics=['accuracy'])"
   ]
  },
  {
   "cell_type": "code",
   "execution_count": 17,
   "metadata": {},
   "outputs": [
    {
     "name": "stderr",
     "output_type": "stream",
     "text": [
      "W0618 16:10:19.414411 140021943641856 deprecation.py:323] From /usr/local/lib/python3.5/dist-packages/tensorflow/python/ops/math_grad.py:1250: add_dispatch_support.<locals>.wrapper (from tensorflow.python.ops.array_ops) is deprecated and will be removed in a future version.\n",
      "Instructions for updating:\n",
      "Use tf.where in 2.0, which has the same broadcast rule as np.where\n",
      "W0618 16:10:19.554638 140021943641856 deprecation_wrapper.py:119] From /home/amirhossein/.local/lib/python3.5/site-packages/keras/backend/tensorflow_backend.py:986: The name tf.assign_add is deprecated. Please use tf.compat.v1.assign_add instead.\n",
      "\n"
     ]
    },
    {
     "name": "stdout",
     "output_type": "stream",
     "text": [
      "Epoch 1/30\n",
      "50000/50000 [==============================] - 15s 309us/step - loss: 0.6199 - acc: 0.7755\n",
      "Epoch 2/30\n",
      "50000/50000 [==============================] - 14s 288us/step - loss: 0.4863 - acc: 0.8300\n",
      "Epoch 3/30\n",
      "50000/50000 [==============================] - 14s 289us/step - loss: 0.4635 - acc: 0.8380\n",
      "Epoch 4/30\n",
      "50000/50000 [==============================] - 15s 291us/step - loss: 0.4493 - acc: 0.8440\n",
      "Epoch 5/30\n",
      "50000/50000 [==============================] - 15s 293us/step - loss: 0.4377 - acc: 0.8466\n",
      "Epoch 6/30\n",
      "50000/50000 [==============================] - 15s 304us/step - loss: 0.4247 - acc: 0.8521\n",
      "Epoch 7/30\n",
      "50000/50000 [==============================] - 15s 295us/step - loss: 0.4156 - acc: 0.8538\n",
      "Epoch 8/30\n",
      "50000/50000 [==============================] - 15s 294us/step - loss: 0.4090 - acc: 0.8585\n",
      "Epoch 9/30\n",
      "50000/50000 [==============================] - 15s 299us/step - loss: 0.4028 - acc: 0.8600\n",
      "Epoch 10/30\n",
      "50000/50000 [==============================] - 15s 305us/step - loss: 0.3956 - acc: 0.8615\n",
      "Epoch 11/30\n",
      "50000/50000 [==============================] - 15s 306us/step - loss: 0.3902 - acc: 0.8637\n",
      "Epoch 12/30\n",
      "50000/50000 [==============================] - 15s 308us/step - loss: 0.3855 - acc: 0.8651\n",
      "Epoch 13/30\n",
      "50000/50000 [==============================] - 16s 320us/step - loss: 0.3817 - acc: 0.8670\n",
      "Epoch 14/30\n",
      "50000/50000 [==============================] - 17s 339us/step - loss: 0.3763 - acc: 0.8685\n",
      "Epoch 15/30\n",
      "50000/50000 [==============================] - 17s 343us/step - loss: 0.3721 - acc: 0.8689\n",
      "Epoch 16/30\n",
      "50000/50000 [==============================] - 16s 313us/step - loss: 0.3678 - acc: 0.8713\n",
      "Epoch 17/30\n",
      "50000/50000 [==============================] - 16s 314us/step - loss: 0.3641 - acc: 0.8718\n",
      "Epoch 18/30\n",
      "50000/50000 [==============================] - 16s 314us/step - loss: 0.3613 - acc: 0.8742\n",
      "Epoch 19/30\n",
      "50000/50000 [==============================] - 16s 318us/step - loss: 0.3594 - acc: 0.8741\n",
      "Epoch 20/30\n",
      "50000/50000 [==============================] - 16s 324us/step - loss: 0.3555 - acc: 0.8752\n",
      "Epoch 21/30\n",
      "50000/50000 [==============================] - 16s 322us/step - loss: 0.3520 - acc: 0.8763\n",
      "Epoch 22/30\n",
      "50000/50000 [==============================] - 16s 323us/step - loss: 0.3504 - acc: 0.8768\n",
      "Epoch 23/30\n",
      "50000/50000 [==============================] - 16s 323us/step - loss: 0.3473 - acc: 0.8780\n",
      "Epoch 24/30\n",
      "50000/50000 [==============================] - 16s 324us/step - loss: 0.3437 - acc: 0.8797\n",
      "Epoch 25/30\n",
      "50000/50000 [==============================] - 16s 315us/step - loss: 0.3422 - acc: 0.8802\n",
      "Epoch 26/30\n",
      "50000/50000 [==============================] - 16s 318us/step - loss: 0.3399 - acc: 0.8803\n",
      "Epoch 27/30\n",
      "50000/50000 [==============================] - 16s 320us/step - loss: 0.3383 - acc: 0.8814\n",
      "Epoch 28/30\n",
      "50000/50000 [==============================] - 16s 323us/step - loss: 0.3355 - acc: 0.8809\n",
      "Epoch 29/30\n",
      "50000/50000 [==============================] - 16s 325us/step - loss: 0.3323 - acc: 0.8830\n",
      "Epoch 30/30\n",
      "50000/50000 [==============================] - 16s 322us/step - loss: 0.3310 - acc: 0.8839\n",
      "CPU times: user 11min 38s, sys: 57.6 s, total: 12min 36s\n",
      "Wall time: 7min 50s\n"
     ]
    },
    {
     "data": {
      "text/plain": [
       "<keras.callbacks.History at 0x7f5904e78978>"
      ]
     },
     "execution_count": 17,
     "metadata": {},
     "output_type": "execute_result"
    }
   ],
   "source": [
    "%%time\n",
    "nn_model.fit(train_x_vectors, train_y_1hot, epochs=30, batch_size=10)"
   ]
  },
  {
   "cell_type": "code",
   "execution_count": 18,
   "metadata": {},
   "outputs": [
    {
     "name": "stdout",
     "output_type": "stream",
     "text": [
      "137.611\n"
     ]
    }
   ],
   "source": [
    "p = pickle.dumps(nn_model)\n",
    "memoryKB = sys.getsizeof(p)/1000\n",
    "print(memoryKB)"
   ]
  },
  {
   "cell_type": "code",
   "execution_count": 19,
   "metadata": {
    "scrolled": true
   },
   "outputs": [
    {
     "name": "stdout",
     "output_type": "stream",
     "text": [
      "5000/5000 [==============================] - 1s 148us/step\n"
     ]
    },
    {
     "data": {
      "text/plain": [
       "[0.40598599456925877, 0.8687999956011773]"
      ]
     },
     "execution_count": 19,
     "metadata": {},
     "output_type": "execute_result"
    }
   ],
   "source": [
    "nn_model.evaluate(test_x_vectors, test_y_1hot, batch_size=10)"
   ]
  },
  {
   "cell_type": "code",
   "execution_count": 20,
   "metadata": {},
   "outputs": [
    {
     "name": "stdout",
     "output_type": "stream",
     "text": [
      "CPU times: user 224 ms, sys: 3.05 ms, total: 227 ms\n",
      "Wall time: 187 ms\n"
     ]
    }
   ],
   "source": [
    "%%time\n",
    "predictions = nn_model.predict(test_x_vectors)"
   ]
  },
  {
   "cell_type": "code",
   "execution_count": 22,
   "metadata": {},
   "outputs": [
    {
     "data": {
      "image/png": "[encoded data removed]",
      "text/plain": [
       "<Figure size 576x432 with 2 Axes>"
      ]
     },
     "metadata": {
      "needs_background": "light"
     },
     "output_type": "display_data"
    }
   ],
   "source": [
    "nn_cm = confusion_matrix(test_y, predictions.argmax(axis=1)+1)\n",
    "cmPlotLabels = ['World', 'Sports', 'Business', 'Science', 'Corona']\n",
    "plot_confusion_matrix(nn_cm, cmPlotLabels, title='NN')"
   ]
  },
  {
   "cell_type": "code",
   "execution_count": 23,
   "metadata": {},
   "outputs": [],
   "source": [
    "nn_model.save(\"nn_w2v_300.h5\")"
   ]
  },
  {
   "cell_type": "code",
   "execution_count": null,
   "metadata": {},
   "outputs": [],
   "source": []
  },
  {
   "cell_type": "code",
   "execution_count": null,
   "metadata": {},
   "outputs": [],
   "source": []
  },
  {
   "cell_type": "code",
   "execution_count": null,
   "metadata": {},
   "outputs": [],
   "source": []
  }
 ],
 "metadata": {
  "kernelspec": {
   "display_name": "Python 3",
   "language": "python",
   "name": "python3"
  },
  "language_info": {
   "codemirror_mode": {
    "name": "ipython",
    "version": 3
   },
   "file_extension": ".py",
   "mimetype": "text/x-python",
   "name": "python",
   "nbconvert_exporter": "python",
   "pygments_lexer": "ipython3",
   "version": "3.5.2"
  }
 },
 "nbformat": 4,
 "nbformat_minor": 2
}
