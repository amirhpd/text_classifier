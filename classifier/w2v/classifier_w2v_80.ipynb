{
 "cells": [
  {
   "cell_type": "markdown",
   "metadata": {},
   "source": [
    "### Classifier with w2v vectors"
   ]
  },
  {
   "cell_type": "markdown",
   "metadata": {},
   "source": [
    "Vectorized on train data"
   ]
  },
  {
   "cell_type": "code",
   "execution_count": 1,
   "metadata": {},
   "outputs": [
    {
     "name": "stderr",
     "output_type": "stream",
     "text": [
      "Using TensorFlow backend.\n"
     ]
    }
   ],
   "source": [
    "import pandas as pd\n",
    "import numpy as np\n",
    "import matplotlib.pyplot as plt\n",
    "from sklearn.naive_bayes import MultinomialNB\n",
    "from sklearn.metrics  import f1_score,accuracy_score\n",
    "from sklearn.metrics import confusion_matrix\n",
    "import itertools\n",
    "from sklearn.model_selection import cross_validate\n",
    "from sklearn import svm\n",
    "import keras\n",
    "from sklearn.preprocessing import OneHotEncoder\n",
    "import pickle\n",
    "import sys"
   ]
  },
  {
   "cell_type": "code",
   "execution_count": 2,
   "metadata": {},
   "outputs": [],
   "source": [
    "train_set = pd.read_csv(\"dataset_train_pp.csv\")\n",
    "test_set = pd.read_csv(\"dataset_test_pp.csv\")"
   ]
  },
  {
   "cell_type": "code",
   "execution_count": 3,
   "metadata": {},
   "outputs": [
    {
     "name": "stdout",
     "output_type": "stream",
     "text": [
      "50000\n",
      "5000\n"
     ]
    }
   ],
   "source": [
    "print(len(train_set))\n",
    "print(len(test_set))"
   ]
  },
  {
   "cell_type": "code",
   "execution_count": 5,
   "metadata": {},
   "outputs": [],
   "source": [
    "train_x=train_set[\"Description\"]\n",
    "test_x=test_set[\"Description\"]\n",
    "\n",
    "train_y=train_set[\"Class Index\"]\n",
    "test_y=test_set[\"Class Index\"]"
   ]
  },
  {
   "cell_type": "code",
   "execution_count": 6,
   "metadata": {},
   "outputs": [
    {
     "name": "stdout",
     "output_type": "stream",
     "text": [
      "CPU times: user 3.68 ms, sys: 0 ns, total: 3.68 ms\n",
      "Wall time: 3.56 ms\n"
     ]
    }
   ],
   "source": [
    "%%time\n",
    "test_x_vectors = np.load(\"w2v_test_x_80.npy\")"
   ]
  },
  {
   "cell_type": "code",
   "execution_count": 7,
   "metadata": {},
   "outputs": [
    {
     "name": "stdout",
     "output_type": "stream",
     "text": [
      "CPU times: user 3.82 ms, sys: 12.6 ms, total: 16.4 ms\n",
      "Wall time: 15.5 ms\n"
     ]
    }
   ],
   "source": [
    "%%time\n",
    "train_x_vectors = np.load(\"w2v_train_x_80.npy\")"
   ]
  },
  {
   "cell_type": "code",
   "execution_count": null,
   "metadata": {},
   "outputs": [],
   "source": []
  },
  {
   "cell_type": "code",
   "execution_count": null,
   "metadata": {},
   "outputs": [],
   "source": []
  },
  {
   "cell_type": "code",
   "execution_count": null,
   "metadata": {},
   "outputs": [],
   "source": []
  },
  {
   "cell_type": "code",
   "execution_count": 8,
   "metadata": {},
   "outputs": [],
   "source": [
    "# plot confusion matrix\n",
    "def plot_confusion_matrix(cm, classes, normalize=False, title='confusion_matrix', cmap=plt.cm.Blues):\n",
    "    plt.figure(figsize=(8, 6))\n",
    "    plt.imshow(cm, interpolation='nearest', cmap=cmap)\n",
    "    plt.title(title)\n",
    "    plt.colorbar()\n",
    "    tick_marks = np.arange(len(classes))\n",
    "    plt.xticks(tick_marks, classes, rotation=45)\n",
    "    plt.yticks(tick_marks, classes)\n",
    "    \n",
    "    if normalize:\n",
    "        cm = cm.astype('float') / cm.sum(axis=1)[:, np.newaxis]\n",
    "\n",
    "    thresh = cm.max()/2.\n",
    "    for i, j in itertools.product(range(cm.shape[0]), range(cm.shape[1])):\n",
    "        plt.text(j, i, cm[i,j], \n",
    "                horizontalalignment='center', \n",
    "                color='white' if cm[i,j] > thresh else 'black')\n",
    "    plt.tight_layout()\n",
    "    plt.ylabel('True label')\n",
    "    plt.xlabel('Predicted label')"
   ]
  },
  {
   "cell_type": "markdown",
   "metadata": {},
   "source": [
    "### Naive Bays"
   ]
  },
  {
   "cell_type": "code",
   "execution_count": 9,
   "metadata": {},
   "outputs": [],
   "source": [
    "naive_bays = MultinomialNB()"
   ]
  },
  {
   "cell_type": "code",
   "execution_count": 10,
   "metadata": {},
   "outputs": [
    {
     "name": "stdout",
     "output_type": "stream",
     "text": [
      "CPU times: user 48.4 ms, sys: 52.4 ms, total: 101 ms\n",
      "Wall time: 69.6 ms\n"
     ]
    },
    {
     "data": {
      "text/plain": [
       "MultinomialNB(alpha=1.0, class_prior=None, fit_prior=True)"
      ]
     },
     "execution_count": 10,
     "metadata": {},
     "output_type": "execute_result"
    }
   ],
   "source": [
    "%%time\n",
    "naive_bays.fit(train_x_vectors, train_y)"
   ]
  },
  {
   "cell_type": "code",
   "execution_count": 11,
   "metadata": {},
   "outputs": [
    {
     "name": "stdout",
     "output_type": "stream",
     "text": [
      "7.147\n"
     ]
    }
   ],
   "source": [
    "p = pickle.dumps(naive_bays)\n",
    "memoryKB = sys.getsizeof(p)/1000\n",
    "print(memoryKB)"
   ]
  },
  {
   "cell_type": "code",
   "execution_count": 12,
   "metadata": {},
   "outputs": [
    {
     "name": "stdout",
     "output_type": "stream",
     "text": [
      "CPU times: user 7.34 ms, sys: 12.7 ms, total: 20 ms\n",
      "Wall time: 9.95 ms\n"
     ]
    }
   ],
   "source": [
    "%%time\n",
    "nb_pred_x = naive_bays.predict(test_x_vectors)"
   ]
  },
  {
   "cell_type": "code",
   "execution_count": 13,
   "metadata": {},
   "outputs": [
    {
     "data": {
      "text/plain": [
       "0.7106"
      ]
     },
     "execution_count": 13,
     "metadata": {},
     "output_type": "execute_result"
    }
   ],
   "source": [
    "accuracy_score(test_y,nb_pred_x)"
   ]
  },
  {
   "cell_type": "code",
   "execution_count": 14,
   "metadata": {},
   "outputs": [
    {
     "data": {
      "image/png": "[encoded data removed]",
      "text/plain": [
       "<Figure size 576x432 with 2 Axes>"
      ]
     },
     "metadata": {
      "needs_background": "light"
     },
     "output_type": "display_data"
    }
   ],
   "source": [
    "nb_cm = confusion_matrix(test_y, nb_pred_x)\n",
    "cmPlotLabels = ['World', 'Sports', 'Business', 'Science', 'Corona']\n",
    "plot_confusion_matrix(nb_cm, cmPlotLabels, title='Naive Bays')"
   ]
  },
  {
   "cell_type": "markdown",
   "metadata": {},
   "source": [
    "### SVM"
   ]
  },
  {
   "cell_type": "code",
   "execution_count": 15,
   "metadata": {},
   "outputs": [],
   "source": [
    "svm_model = svm.SVC(kernel='poly', degree=2, gamma='scale')"
   ]
  },
  {
   "cell_type": "code",
   "execution_count": 16,
   "metadata": {},
   "outputs": [
    {
     "name": "stdout",
     "output_type": "stream",
     "text": [
      "CPU times: user 3min 44s, sys: 1.82 s, total: 3min 45s\n",
      "Wall time: 3min 46s\n"
     ]
    },
    {
     "data": {
      "text/plain": [
       "SVC(C=1.0, cache_size=200, class_weight=None, coef0=0.0,\n",
       "  decision_function_shape='ovr', degree=2, gamma='scale', kernel='poly',\n",
       "  max_iter=-1, probability=False, random_state=None, shrinking=True,\n",
       "  tol=0.001, verbose=False)"
      ]
     },
     "execution_count": 16,
     "metadata": {},
     "output_type": "execute_result"
    }
   ],
   "source": [
    "%%time\n",
    "svm_model.fit(train_x_vectors, train_y)\n",
    "# svm_model.fit(test_x_vectors, test_y) for speed test"
   ]
  },
  {
   "cell_type": "code",
   "execution_count": 17,
   "metadata": {},
   "outputs": [
    {
     "name": "stdout",
     "output_type": "stream",
     "text": [
      "12611.017\n"
     ]
    }
   ],
   "source": [
    "p = pickle.dumps(svm_model)\n",
    "memoryKB = sys.getsizeof(p)/1000\n",
    "print(memoryKB)"
   ]
  },
  {
   "cell_type": "code",
   "execution_count": 18,
   "metadata": {},
   "outputs": [
    {
     "name": "stdout",
     "output_type": "stream",
     "text": [
      "CPU times: user 17.5 s, sys: 0 ns, total: 17.5 s\n",
      "Wall time: 17.6 s\n"
     ]
    }
   ],
   "source": [
    "%%time\n",
    "svm_pred_x = svm_model.predict(test_x_vectors)"
   ]
  },
  {
   "cell_type": "code",
   "execution_count": 19,
   "metadata": {},
   "outputs": [
    {
     "data": {
      "text/plain": [
       "0.8568"
      ]
     },
     "execution_count": 19,
     "metadata": {},
     "output_type": "execute_result"
    }
   ],
   "source": [
    "accuracy_score(test_y,svm_pred_x)"
   ]
  },
  {
   "cell_type": "code",
   "execution_count": 20,
   "metadata": {},
   "outputs": [
    {
     "data": {
      "image/png": "[encoded data removed]",
      "text/plain": [
       "<Figure size 576x432 with 2 Axes>"
      ]
     },
     "metadata": {
      "needs_background": "light"
     },
     "output_type": "display_data"
    }
   ],
   "source": [
    "svm_cm = confusion_matrix(test_y, svm_pred_x)\n",
    "plot_confusion_matrix(svm_cm, cmPlotLabels, title='SVM')"
   ]
  },
  {
   "cell_type": "markdown",
   "metadata": {},
   "source": [
    "https://stackoverflow.com/questions/10592605/save-classifier-to-disk-in-scikit-learn"
   ]
  },
  {
   "cell_type": "markdown",
   "metadata": {},
   "source": [
    "### NN"
   ]
  },
  {
   "cell_type": "markdown",
   "metadata": {},
   "source": [
    "#### Prepare labels for keras"
   ]
  },
  {
   "cell_type": "code",
   "execution_count": 21,
   "metadata": {},
   "outputs": [],
   "source": [
    "enc = OneHotEncoder(handle_unknown='ignore')"
   ]
  },
  {
   "cell_type": "code",
   "execution_count": 22,
   "metadata": {},
   "outputs": [],
   "source": [
    "test_y_array = test_y.to_numpy().reshape(-1,1)\n",
    "train_y_array = train_y.to_numpy().reshape(-1,1)"
   ]
  },
  {
   "cell_type": "code",
   "execution_count": 23,
   "metadata": {},
   "outputs": [],
   "source": [
    "enc.fit(test_y_array)\n",
    "test_y_1hot = enc.transform(test_y_array).toarray()"
   ]
  },
  {
   "cell_type": "code",
   "execution_count": 24,
   "metadata": {},
   "outputs": [],
   "source": [
    "enc.fit(train_y_array)\n",
    "train_y_1hot = enc.transform(train_y_array).toarray()"
   ]
  },
  {
   "cell_type": "markdown",
   "metadata": {},
   "source": [
    "#### keras model"
   ]
  },
  {
   "cell_type": "code",
   "execution_count": 36,
   "metadata": {},
   "outputs": [],
   "source": [
    "nn_model = None\n",
    "nn_model = keras.models.Sequential()\n",
    "nn_model.add(keras.layers.Dense(32, input_dim=80, activation='relu'))\n",
    "nn_model.add(keras.layers.Dense(16, activation='relu'))\n",
    "nn_model.add(keras.layers.Dense(16, activation='relu'))\n",
    "nn_model.add(keras.layers.Dense(5, activation='softmax'))"
   ]
  },
  {
   "cell_type": "code",
   "execution_count": 37,
   "metadata": {},
   "outputs": [
    {
     "name": "stdout",
     "output_type": "stream",
     "text": [
      "_________________________________________________________________\n",
      "Layer (type)                 Output Shape              Param #   \n",
      "=================================================================\n",
      "dense_13 (Dense)             (None, 32)                2592      \n",
      "_________________________________________________________________\n",
      "dense_14 (Dense)             (None, 16)                528       \n",
      "_________________________________________________________________\n",
      "dense_15 (Dense)             (None, 16)                272       \n",
      "_________________________________________________________________\n",
      "dense_16 (Dense)             (None, 5)                 85        \n",
      "=================================================================\n",
      "Total params: 3,477\n",
      "Trainable params: 3,477\n",
      "Non-trainable params: 0\n",
      "_________________________________________________________________\n"
     ]
    }
   ],
   "source": [
    "nn_model.summary()"
   ]
  },
  {
   "cell_type": "code",
   "execution_count": 38,
   "metadata": {},
   "outputs": [],
   "source": [
    "nn_model.compile(keras.optimizers.Adam(lr=0.001), loss='categorical_crossentropy', metrics=['accuracy'])"
   ]
  },
  {
   "cell_type": "code",
   "execution_count": 39,
   "metadata": {},
   "outputs": [
    {
     "name": "stdout",
     "output_type": "stream",
     "text": [
      "Epoch 1/30\n",
      "50000/50000 [==============================] - 16s 317us/step - loss: 0.7111 - acc: 0.7424\n",
      "Epoch 2/30\n",
      "50000/50000 [==============================] - 15s 298us/step - loss: 0.5887 - acc: 0.7936\n",
      "Epoch 3/30\n",
      "50000/50000 [==============================] - 15s 300us/step - loss: 0.5648 - acc: 0.8016\n",
      "Epoch 4/30\n",
      "50000/50000 [==============================] - 15s 299us/step - loss: 0.5480 - acc: 0.8080\n",
      "Epoch 5/30\n",
      "50000/50000 [==============================] - 15s 297us/step - loss: 0.5350 - acc: 0.8127\n",
      "Epoch 6/30\n",
      "50000/50000 [==============================] - 15s 300us/step - loss: 0.5226 - acc: 0.8181\n",
      "Epoch 7/30\n",
      "50000/50000 [==============================] - 15s 306us/step - loss: 0.5141 - acc: 0.8198\n",
      "Epoch 8/30\n",
      "50000/50000 [==============================] - 15s 308us/step - loss: 0.5059 - acc: 0.8237\n",
      "Epoch 9/30\n",
      "50000/50000 [==============================] - 15s 309us/step - loss: 0.4994 - acc: 0.8241\n",
      "Epoch 10/30\n",
      "50000/50000 [==============================] - 16s 313us/step - loss: 0.4938 - acc: 0.8263\n",
      "Epoch 11/30\n",
      "50000/50000 [==============================] - 16s 314us/step - loss: 0.4884 - acc: 0.8296\n",
      "Epoch 12/30\n",
      "50000/50000 [==============================] - 16s 316us/step - loss: 0.4841 - acc: 0.8303\n",
      "Epoch 13/30\n",
      "50000/50000 [==============================] - 16s 316us/step - loss: 0.4805 - acc: 0.8320\n",
      "Epoch 14/30\n",
      "50000/50000 [==============================] - 16s 326us/step - loss: 0.4770 - acc: 0.8335\n",
      "Epoch 15/30\n",
      "50000/50000 [==============================] - 16s 317us/step - loss: 0.4734 - acc: 0.8347\n",
      "Epoch 16/30\n",
      "50000/50000 [==============================] - 16s 321us/step - loss: 0.4708 - acc: 0.8353\n",
      "Epoch 17/30\n",
      "50000/50000 [==============================] - 16s 322us/step - loss: 0.4687 - acc: 0.8359\n",
      "Epoch 18/30\n",
      "50000/50000 [==============================] - 16s 322us/step - loss: 0.4645 - acc: 0.8358\n",
      "Epoch 19/30\n",
      "50000/50000 [==============================] - 16s 329us/step - loss: 0.4630 - acc: 0.8380\n",
      "Epoch 20/30\n",
      "50000/50000 [==============================] - 16s 325us/step - loss: 0.4604 - acc: 0.8401\n",
      "Epoch 21/30\n",
      "50000/50000 [==============================] - 17s 332us/step - loss: 0.4589 - acc: 0.8401\n",
      "Epoch 22/30\n",
      "50000/50000 [==============================] - 17s 332us/step - loss: 0.4574 - acc: 0.8393\n",
      "Epoch 23/30\n",
      "50000/50000 [==============================] - 17s 332us/step - loss: 0.4553 - acc: 0.8405\n",
      "Epoch 24/30\n",
      "50000/50000 [==============================] - 17s 333us/step - loss: 0.4546 - acc: 0.8384\n",
      "Epoch 25/30\n",
      "50000/50000 [==============================] - 17s 333us/step - loss: 0.4528 - acc: 0.8419\n",
      "Epoch 26/30\n",
      "50000/50000 [==============================] - 17s 344us/step - loss: 0.4502 - acc: 0.8417\n",
      "Epoch 27/30\n",
      "50000/50000 [==============================] - 17s 331us/step - loss: 0.4496 - acc: 0.8411\n",
      "Epoch 28/30\n",
      "50000/50000 [==============================] - 17s 333us/step - loss: 0.4490 - acc: 0.8420\n",
      "Epoch 29/30\n",
      "50000/50000 [==============================] - 17s 340us/step - loss: 0.4475 - acc: 0.8418\n",
      "Epoch 30/30\n",
      "50000/50000 [==============================] - 17s 338us/step - loss: 0.4464 - acc: 0.8419\n",
      "CPU times: user 11min 54s, sys: 1min 2s, total: 12min 56s\n",
      "Wall time: 8min 1s\n"
     ]
    },
    {
     "data": {
      "text/plain": [
       "<keras.callbacks.History at 0x7fae4590a898>"
      ]
     },
     "execution_count": 39,
     "metadata": {},
     "output_type": "execute_result"
    }
   ],
   "source": [
    "%%time\n",
    "nn_model.fit(train_x_vectors, train_y_1hot, epochs=30, batch_size=10)"
   ]
  },
  {
   "cell_type": "code",
   "execution_count": 40,
   "metadata": {},
   "outputs": [
    {
     "name": "stdout",
     "output_type": "stream",
     "text": [
      "53.307\n"
     ]
    }
   ],
   "source": [
    "p = pickle.dumps(nn_model)\n",
    "memoryKB = sys.getsizeof(p)/1000\n",
    "print(memoryKB)"
   ]
  },
  {
   "cell_type": "code",
   "execution_count": 41,
   "metadata": {
    "scrolled": true
   },
   "outputs": [
    {
     "name": "stdout",
     "output_type": "stream",
     "text": [
      "5000/5000 [==============================] - 1s 163us/step\n"
     ]
    },
    {
     "data": {
      "text/plain": [
       "[0.4807432372355834, 0.8273999956250191]"
      ]
     },
     "execution_count": 41,
     "metadata": {},
     "output_type": "execute_result"
    }
   ],
   "source": [
    "nn_model.evaluate(test_x_vectors, test_y_1hot, batch_size=10)"
   ]
  },
  {
   "cell_type": "code",
   "execution_count": 42,
   "metadata": {},
   "outputs": [
    {
     "name": "stdout",
     "output_type": "stream",
     "text": [
      "CPU times: user 279 ms, sys: 8.17 ms, total: 288 ms\n",
      "Wall time: 243 ms\n"
     ]
    }
   ],
   "source": [
    "%%time\n",
    "predictions = nn_model.predict(test_x_vectors)"
   ]
  },
  {
   "cell_type": "code",
   "execution_count": 43,
   "metadata": {},
   "outputs": [
    {
     "data": {
      "image/png": "[encoded data removed]",
      "text/plain": [
       "<Figure size 576x432 with 2 Axes>"
      ]
     },
     "metadata": {
      "needs_background": "light"
     },
     "output_type": "display_data"
    }
   ],
   "source": [
    "nn_cm = confusion_matrix(test_y, predictions.argmax(axis=1)+1)\n",
    "plot_confusion_matrix(nn_cm, cmPlotLabels, title='NN')"
   ]
  },
  {
   "cell_type": "code",
   "execution_count": 44,
   "metadata": {},
   "outputs": [],
   "source": [
    "nn_model.save(\"nn_w2v_80.h5\")"
   ]
  },
  {
   "cell_type": "code",
   "execution_count": null,
   "metadata": {},
   "outputs": [],
   "source": []
  },
  {
   "cell_type": "code",
   "execution_count": null,
   "metadata": {},
   "outputs": [],
   "source": []
  },
  {
   "cell_type": "code",
   "execution_count": null,
   "metadata": {},
   "outputs": [],
   "source": []
  }
 ],
 "metadata": {
  "kernelspec": {
   "display_name": "Python 3",
   "language": "python",
   "name": "python3"
  },
  "language_info": {
   "codemirror_mode": {
    "name": "ipython",
    "version": 3
   },
   "file_extension": ".py",
   "mimetype": "text/x-python",
   "name": "python",
   "nbconvert_exporter": "python",
   "pygments_lexer": "ipython3",
   "version": "3.5.2"
  }
 },
 "nbformat": 4,
 "nbformat_minor": 2
}
