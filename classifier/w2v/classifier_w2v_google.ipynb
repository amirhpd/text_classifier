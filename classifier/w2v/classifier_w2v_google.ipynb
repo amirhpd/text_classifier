{
 "cells": [
  {
   "cell_type": "markdown",
   "metadata": {},
   "source": [
    "### Classifier with w2v vectors"
   ]
  },
  {
   "cell_type": "code",
   "execution_count": 16,
   "metadata": {},
   "outputs": [],
   "source": [
    "import pandas as pd\n",
    "import numpy as np\n",
    "import matplotlib.pyplot as plt\n",
    "from sklearn.naive_bayes import MultinomialNB\n",
    "from sklearn.metrics  import f1_score,accuracy_score\n",
    "from sklearn.metrics import confusion_matrix\n",
    "import itertools\n",
    "from sklearn.model_selection import cross_validate\n",
    "from sklearn import svm\n",
    "import keras\n",
    "from sklearn.preprocessing import OneHotEncoder\n",
    "import pickle\n",
    "import sys"
   ]
  },
  {
   "cell_type": "code",
   "execution_count": 2,
   "metadata": {},
   "outputs": [],
   "source": [
    "train_set = pd.read_csv(\"dataset_train_pp.csv\")\n",
    "test_set = pd.read_csv(\"dataset_test_pp.csv\")"
   ]
  },
  {
   "cell_type": "code",
   "execution_count": 3,
   "metadata": {},
   "outputs": [
    {
     "name": "stdout",
     "output_type": "stream",
     "text": [
      "50000\n",
      "5000\n"
     ]
    }
   ],
   "source": [
    "print(len(train_set))\n",
    "print(len(test_set))"
   ]
  },
  {
   "cell_type": "code",
   "execution_count": 4,
   "metadata": {},
   "outputs": [],
   "source": [
    "train_x=train_set[\"Description\"]\n",
    "test_x=test_set[\"Description\"]\n",
    "\n",
    "train_y=train_set[\"Class Index\"]\n",
    "test_y=test_set[\"Class Index\"]"
   ]
  },
  {
   "cell_type": "code",
   "execution_count": 5,
   "metadata": {},
   "outputs": [
    {
     "name": "stdout",
     "output_type": "stream",
     "text": [
      "CPU times: user 5.86 ms, sys: 4.41 ms, total: 10.3 ms\n",
      "Wall time: 7.59 ms\n"
     ]
    }
   ],
   "source": [
    "%%time\n",
    "test_x_vectors = np.load(\"w2v_test_x_google.npy\")"
   ]
  },
  {
   "cell_type": "code",
   "execution_count": 6,
   "metadata": {},
   "outputs": [
    {
     "name": "stdout",
     "output_type": "stream",
     "text": [
      "CPU times: user 4.36 ms, sys: 56.9 ms, total: 61.3 ms\n",
      "Wall time: 59.4 ms\n"
     ]
    }
   ],
   "source": [
    "%%time\n",
    "train_x_vectors = np.load(\"w2v_train_x_google.npy\")"
   ]
  },
  {
   "cell_type": "code",
   "execution_count": null,
   "metadata": {},
   "outputs": [],
   "source": []
  },
  {
   "cell_type": "code",
   "execution_count": null,
   "metadata": {},
   "outputs": [],
   "source": []
  },
  {
   "cell_type": "code",
   "execution_count": null,
   "metadata": {},
   "outputs": [],
   "source": []
  },
  {
   "cell_type": "code",
   "execution_count": 7,
   "metadata": {},
   "outputs": [],
   "source": [
    "# plot confusion matrix\n",
    "def plot_confusion_matrix(cm, classes, normalize=False, title='confusion_matrix', cmap=plt.cm.Blues):\n",
    "    plt.figure(figsize=(8, 6))\n",
    "    plt.imshow(cm, interpolation='nearest', cmap=cmap)\n",
    "    plt.title(title)\n",
    "    plt.colorbar()\n",
    "    tick_marks = np.arange(len(classes))\n",
    "    plt.xticks(tick_marks, classes, rotation=45)\n",
    "    plt.yticks(tick_marks, classes)\n",
    "    \n",
    "    if normalize:\n",
    "        cm = cm.astype('float') / cm.sum(axis=1)[:, np.newaxis]\n",
    "\n",
    "    thresh = cm.max()/2.\n",
    "    for i, j in itertools.product(range(cm.shape[0]), range(cm.shape[1])):\n",
    "        plt.text(j, i, cm[i,j], \n",
    "                horizontalalignment='center', \n",
    "                color='white' if cm[i,j] > thresh else 'black')\n",
    "    plt.tight_layout()\n",
    "    plt.ylabel('True label')\n",
    "    plt.xlabel('Predicted label')"
   ]
  },
  {
   "cell_type": "markdown",
   "metadata": {},
   "source": [
    "### Naive Bays"
   ]
  },
  {
   "cell_type": "code",
   "execution_count": 8,
   "metadata": {},
   "outputs": [],
   "source": [
    "naive_bays = MultinomialNB()"
   ]
  },
  {
   "cell_type": "code",
   "execution_count": 9,
   "metadata": {},
   "outputs": [
    {
     "name": "stdout",
     "output_type": "stream",
     "text": [
      "CPU times: user 185 ms, sys: 77.1 ms, total: 262 ms\n",
      "Wall time: 218 ms\n"
     ]
    },
    {
     "data": {
      "text/plain": [
       "MultinomialNB(alpha=1.0, class_prior=None, fit_prior=True)"
      ]
     },
     "execution_count": 9,
     "metadata": {},
     "output_type": "execute_result"
    }
   ],
   "source": [
    "%%time\n",
    "naive_bays.fit(train_x_vectors, train_y)"
   ]
  },
  {
   "cell_type": "code",
   "execution_count": 21,
   "metadata": {},
   "outputs": [
    {
     "name": "stdout",
     "output_type": "stream",
     "text": [
      "24.749\n"
     ]
    }
   ],
   "source": [
    "p = pickle.dumps(naive_bays)\n",
    "memoryKB = sys.getsizeof(p)/1000\n",
    "print(memoryKB)"
   ]
  },
  {
   "cell_type": "code",
   "execution_count": 10,
   "metadata": {},
   "outputs": [
    {
     "name": "stdout",
     "output_type": "stream",
     "text": [
      "CPU times: user 19.1 ms, sys: 8.73 ms, total: 27.8 ms\n",
      "Wall time: 17.1 ms\n"
     ]
    }
   ],
   "source": [
    "%%time\n",
    "nb_pred_x = naive_bays.predict(test_x_vectors)"
   ]
  },
  {
   "cell_type": "code",
   "execution_count": 11,
   "metadata": {},
   "outputs": [
    {
     "data": {
      "text/plain": [
       "0.7886"
      ]
     },
     "execution_count": 11,
     "metadata": {},
     "output_type": "execute_result"
    }
   ],
   "source": [
    "accuracy_score(test_y,nb_pred_x)"
   ]
  },
  {
   "cell_type": "code",
   "execution_count": 12,
   "metadata": {},
   "outputs": [
    {
     "data": {
      "image/png": "[encoded data removed]",
      "text/plain": [
       "<Figure size 576x432 with 2 Axes>"
      ]
     },
     "metadata": {
      "needs_background": "light"
     },
     "output_type": "display_data"
    }
   ],
   "source": [
    "nb_cm = confusion_matrix(test_y, nb_pred_x)\n",
    "cmPlotLabels = ['World', 'Sports', 'Business', 'Science', 'Corona']\n",
    "plot_confusion_matrix(nb_cm, cmPlotLabels, title='Naive Bays')"
   ]
  },
  {
   "cell_type": "markdown",
   "metadata": {},
   "source": [
    "### SVM"
   ]
  },
  {
   "cell_type": "code",
   "execution_count": 13,
   "metadata": {},
   "outputs": [],
   "source": [
    "svm_model = svm.SVC(kernel='poly', degree=2, gamma='scale')"
   ]
  },
  {
   "cell_type": "code",
   "execution_count": 14,
   "metadata": {},
   "outputs": [
    {
     "name": "stdout",
     "output_type": "stream",
     "text": [
      "CPU times: user 13min 33s, sys: 4.43 s, total: 13min 38s\n",
      "Wall time: 13min 39s\n"
     ]
    },
    {
     "data": {
      "text/plain": [
       "SVC(C=1.0, cache_size=200, class_weight=None, coef0=0.0,\n",
       "  decision_function_shape='ovr', degree=2, gamma='scale', kernel='poly',\n",
       "  max_iter=-1, probability=False, random_state=None, shrinking=True,\n",
       "  tol=0.001, verbose=False)"
      ]
     },
     "execution_count": 14,
     "metadata": {},
     "output_type": "execute_result"
    }
   ],
   "source": [
    "%%time\n",
    "svm_model.fit(train_x_vectors, train_y)\n",
    "# svm_model.fit(test_x_vectors, test_y) for speed test"
   ]
  },
  {
   "cell_type": "code",
   "execution_count": 17,
   "metadata": {},
   "outputs": [
    {
     "name": "stdout",
     "output_type": "stream",
     "text": [
      "44490.259\n"
     ]
    }
   ],
   "source": [
    "p = pickle.dumps(svm_model)\n",
    "memoryKB = sys.getsizeof(p)/1000\n",
    "print(memoryKB)"
   ]
  },
  {
   "cell_type": "code",
   "execution_count": 18,
   "metadata": {},
   "outputs": [
    {
     "name": "stdout",
     "output_type": "stream",
     "text": [
      "CPU times: user 57 s, sys: 71.8 ms, total: 57.1 s\n",
      "Wall time: 57.2 s\n"
     ]
    }
   ],
   "source": [
    "%%time\n",
    "svm_pred_x = svm_model.predict(test_x_vectors)"
   ]
  },
  {
   "cell_type": "code",
   "execution_count": 19,
   "metadata": {},
   "outputs": [
    {
     "data": {
      "text/plain": [
       "0.88"
      ]
     },
     "execution_count": 19,
     "metadata": {},
     "output_type": "execute_result"
    }
   ],
   "source": [
    "accuracy_score(test_y,svm_pred_x)"
   ]
  },
  {
   "cell_type": "code",
   "execution_count": 20,
   "metadata": {},
   "outputs": [
    {
     "data": {
      "image/png": "[encoded data removed]",
      "text/plain": [
       "<Figure size 576x432 with 2 Axes>"
      ]
     },
     "metadata": {
      "needs_background": "light"
     },
     "output_type": "display_data"
    }
   ],
   "source": [
    "svm_cm = confusion_matrix(test_y, svm_pred_x)\n",
    "plot_confusion_matrix(svm_cm, cmPlotLabels, title='SVM')"
   ]
  },
  {
   "cell_type": "markdown",
   "metadata": {},
   "source": [
    "https://stackoverflow.com/questions/10592605/save-classifier-to-disk-in-scikit-learn"
   ]
  },
  {
   "cell_type": "markdown",
   "metadata": {},
   "source": [
    "### NN"
   ]
  },
  {
   "cell_type": "markdown",
   "metadata": {},
   "source": [
    "#### Prepare labels for keras"
   ]
  },
  {
   "cell_type": "code",
   "execution_count": 22,
   "metadata": {},
   "outputs": [],
   "source": [
    "enc = OneHotEncoder(handle_unknown='ignore')"
   ]
  },
  {
   "cell_type": "code",
   "execution_count": 23,
   "metadata": {},
   "outputs": [],
   "source": [
    "test_y_array = test_y.to_numpy().reshape(-1,1)\n",
    "train_y_array = train_y.to_numpy().reshape(-1,1)"
   ]
  },
  {
   "cell_type": "code",
   "execution_count": 24,
   "metadata": {},
   "outputs": [],
   "source": [
    "enc.fit(test_y_array)\n",
    "test_y_1hot = enc.transform(test_y_array).toarray()"
   ]
  },
  {
   "cell_type": "code",
   "execution_count": 25,
   "metadata": {},
   "outputs": [],
   "source": [
    "enc.fit(train_y_array)\n",
    "train_y_1hot = enc.transform(train_y_array).toarray()"
   ]
  },
  {
   "cell_type": "markdown",
   "metadata": {},
   "source": [
    "#### keras model"
   ]
  },
  {
   "cell_type": "code",
   "execution_count": 27,
   "metadata": {},
   "outputs": [],
   "source": [
    "nn_model = None\n",
    "nn_model = keras.models.Sequential()\n",
    "nn_model.add(keras.layers.Dense(32, input_dim=300, activation='relu'))\n",
    "nn_model.add(keras.layers.Dense(16, activation='relu'))\n",
    "nn_model.add(keras.layers.Dense(16, activation='relu'))\n",
    "nn_model.add(keras.layers.Dense(5, activation='softmax'))"
   ]
  },
  {
   "cell_type": "code",
   "execution_count": 28,
   "metadata": {},
   "outputs": [
    {
     "name": "stdout",
     "output_type": "stream",
     "text": [
      "_________________________________________________________________\n",
      "Layer (type)                 Output Shape              Param #   \n",
      "=================================================================\n",
      "dense_5 (Dense)              (None, 32)                9632      \n",
      "_________________________________________________________________\n",
      "dense_6 (Dense)              (None, 16)                528       \n",
      "_________________________________________________________________\n",
      "dense_7 (Dense)              (None, 16)                272       \n",
      "_________________________________________________________________\n",
      "dense_8 (Dense)              (None, 5)                 85        \n",
      "=================================================================\n",
      "Total params: 10,517\n",
      "Trainable params: 10,517\n",
      "Non-trainable params: 0\n",
      "_________________________________________________________________\n"
     ]
    }
   ],
   "source": [
    "nn_model.summary()"
   ]
  },
  {
   "cell_type": "code",
   "execution_count": 31,
   "metadata": {},
   "outputs": [],
   "source": [
    "nn_model.compile(keras.optimizers.Adam(lr=0.001), loss='categorical_crossentropy', metrics=['accuracy'])"
   ]
  },
  {
   "cell_type": "code",
   "execution_count": 32,
   "metadata": {},
   "outputs": [
    {
     "name": "stderr",
     "output_type": "stream",
     "text": [
      "W0620 18:25:07.041413 140258955380480 deprecation.py:323] From /usr/local/lib/python3.5/dist-packages/tensorflow/python/ops/math_grad.py:1250: add_dispatch_support.<locals>.wrapper (from tensorflow.python.ops.array_ops) is deprecated and will be removed in a future version.\n",
      "Instructions for updating:\n",
      "Use tf.where in 2.0, which has the same broadcast rule as np.where\n",
      "W0620 18:25:07.171005 140258955380480 deprecation_wrapper.py:119] From /home/amirhossein/.local/lib/python3.5/site-packages/keras/backend/tensorflow_backend.py:986: The name tf.assign_add is deprecated. Please use tf.compat.v1.assign_add instead.\n",
      "\n"
     ]
    },
    {
     "name": "stdout",
     "output_type": "stream",
     "text": [
      "Epoch 1/20\n",
      "50000/50000 [==============================] - 17s 336us/step - loss: 0.6103 - acc: 0.7901\n",
      "Epoch 2/20\n",
      "50000/50000 [==============================] - 15s 296us/step - loss: 0.4620 - acc: 0.8422\n",
      "Epoch 3/20\n",
      "50000/50000 [==============================] - 16s 324us/step - loss: 0.4458 - acc: 0.8469\n",
      "Epoch 4/20\n",
      "50000/50000 [==============================] - 16s 317us/step - loss: 0.4346 - acc: 0.8502\n",
      "Epoch 5/20\n",
      "50000/50000 [==============================] - 15s 304us/step - loss: 0.4209 - acc: 0.8542\n",
      "Epoch 6/20\n",
      "50000/50000 [==============================] - 15s 296us/step - loss: 0.4072 - acc: 0.8595\n",
      "Epoch 7/20\n",
      "50000/50000 [==============================] - 14s 287us/step - loss: 0.3963 - acc: 0.8622\n",
      "Epoch 8/20\n",
      "50000/50000 [==============================] - 15s 298us/step - loss: 0.3872 - acc: 0.8643\n",
      "Epoch 9/20\n",
      "50000/50000 [==============================] - 17s 334us/step - loss: 0.3806 - acc: 0.8678\n",
      "Epoch 10/20\n",
      "50000/50000 [==============================] - 14s 288us/step - loss: 0.3749 - acc: 0.8689\n",
      "Epoch 11/20\n",
      "50000/50000 [==============================] - 14s 287us/step - loss: 0.3672 - acc: 0.8711\n",
      "Epoch 12/20\n",
      "50000/50000 [==============================] - 16s 313us/step - loss: 0.3642 - acc: 0.8720\n",
      "Epoch 13/20\n",
      "50000/50000 [==============================] - 14s 288us/step - loss: 0.3579 - acc: 0.8751\n",
      "Epoch 14/20\n",
      "50000/50000 [==============================] - 14s 287us/step - loss: 0.3527 - acc: 0.8769\n",
      "Epoch 15/20\n",
      "50000/50000 [==============================] - 14s 286us/step - loss: 0.3478 - acc: 0.8768\n",
      "Epoch 16/20\n",
      "50000/50000 [==============================] - 14s 287us/step - loss: 0.3446 - acc: 0.8777\n",
      "Epoch 17/20\n",
      "50000/50000 [==============================] - 14s 286us/step - loss: 0.3417 - acc: 0.8793\n",
      "Epoch 18/20\n",
      "50000/50000 [==============================] - 14s 289us/step - loss: 0.3374 - acc: 0.8811\n",
      "Epoch 19/20\n",
      "50000/50000 [==============================] - 16s 322us/step - loss: 0.3354 - acc: 0.8823\n",
      "Epoch 20/20\n",
      "50000/50000 [==============================] - 16s 324us/step - loss: 0.3310 - acc: 0.8829\n",
      "CPU times: user 7min 59s, sys: 37.8 s, total: 8min 37s\n",
      "Wall time: 5min 3s\n"
     ]
    },
    {
     "data": {
      "text/plain": [
       "<keras.callbacks.History at 0x7f903413a390>"
      ]
     },
     "execution_count": 32,
     "metadata": {},
     "output_type": "execute_result"
    }
   ],
   "source": [
    "%%time\n",
    "nn_model.fit(train_x_vectors, train_y_1hot, epochs=20, batch_size=10)"
   ]
  },
  {
   "cell_type": "code",
   "execution_count": 33,
   "metadata": {},
   "outputs": [
    {
     "name": "stdout",
     "output_type": "stream",
     "text": [
      "137.611\n"
     ]
    }
   ],
   "source": [
    "p = pickle.dumps(nn_model)\n",
    "memoryKB = sys.getsizeof(p)/1000\n",
    "print(memoryKB)"
   ]
  },
  {
   "cell_type": "code",
   "execution_count": 34,
   "metadata": {
    "scrolled": true
   },
   "outputs": [
    {
     "name": "stdout",
     "output_type": "stream",
     "text": [
      "5000/5000 [==============================] - 1s 154us/step\n"
     ]
    },
    {
     "data": {
      "text/plain": [
       "[0.40655508010467817, 0.8619999955296517]"
      ]
     },
     "execution_count": 34,
     "metadata": {},
     "output_type": "execute_result"
    }
   ],
   "source": [
    "nn_model.evaluate(test_x_vectors, test_y_1hot, batch_size=10)"
   ]
  },
  {
   "cell_type": "code",
   "execution_count": 35,
   "metadata": {},
   "outputs": [],
   "source": [
    "predictions = nn_model.predict(test_x_vectors)"
   ]
  },
  {
   "cell_type": "code",
   "execution_count": 36,
   "metadata": {},
   "outputs": [
    {
     "data": {
      "image/png": "[encoded data removed]",
      "text/plain": [
       "<Figure size 576x432 with 2 Axes>"
      ]
     },
     "metadata": {
      "needs_background": "light"
     },
     "output_type": "display_data"
    }
   ],
   "source": [
    "nn_cm = confusion_matrix(test_y, predictions.argmax(axis=1)+1)\n",
    "cmPlotLabels = ['World', 'Sports', 'Business', 'Science', 'Corona']\n",
    "plot_confusion_matrix(nn_cm, cmPlotLabels, title='NN')"
   ]
  },
  {
   "cell_type": "code",
   "execution_count": 23,
   "metadata": {},
   "outputs": [],
   "source": [
    "nn_model.save(\"nn_w2v_google\")"
   ]
  },
  {
   "cell_type": "code",
   "execution_count": null,
   "metadata": {},
   "outputs": [],
   "source": []
  },
  {
   "cell_type": "code",
   "execution_count": null,
   "metadata": {},
   "outputs": [],
   "source": []
  },
  {
   "cell_type": "code",
   "execution_count": null,
   "metadata": {},
   "outputs": [],
   "source": []
  }
 ],
 "metadata": {
  "kernelspec": {
   "display_name": "Python 3",
   "language": "python",
   "name": "python3"
  },
  "language_info": {
   "codemirror_mode": {
    "name": "ipython",
    "version": 3
   },
   "file_extension": ".py",
   "mimetype": "text/x-python",
   "name": "python",
   "nbconvert_exporter": "python",
   "pygments_lexer": "ipython3",
   "version": "3.5.2"
  }
 },
 "nbformat": 4,
 "nbformat_minor": 2
}
